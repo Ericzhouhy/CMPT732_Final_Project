{
 "cells": [
  {
   "cell_type": "code",
   "execution_count": null,
   "metadata": {},
   "outputs": [
    {
     "name": "stdout",
     "output_type": "stream",
     "text": [
      "Predicted Rating: 5\n",
      "Predicted Rating: 2\n"
     ]
    }
   ],
   "source": [
    "from joblib import load\n",
    "\n",
    "# Load the trained pipeline (model + preprocessing)\n",
    "model_pipeline = load('../rating_predict/rating_model.joblib')\n",
    "\n",
    "# New review for prediction\n",
    "new_review1 = [\"This is a great product!\"]\n",
    "new_review2 = [\"Cough Medicine\"]\n",
    "\n",
    "# Directly predict using the pipeline\n",
    "predicted_rating1 = model_pipeline.predict(new_review1)\n",
    "predicted_rating2 = model_pipeline.predict(new_review2)\n",
    "\n",
    "# Print the result\n",
    "print(f\"Predicted Rating: {predicted_rating1[0]}\")\n",
    "print(f\"Predicted Rating: {predicted_rating2[0]}\")\n"
   ]
  },
  {
   "cell_type": "code",
   "execution_count": 1,
   "metadata": {},
   "outputs": [
    {
     "name": "stdout",
     "output_type": "stream",
     "text": [
      "1.4.2\n"
     ]
    }
   ],
   "source": [
    "import joblib\n",
    "print(joblib.__version__)\n"
   ]
  },
  {
   "cell_type": "code",
   "execution_count": 2,
   "metadata": {},
   "outputs": [
    {
     "name": "stdout",
     "output_type": "stream",
     "text": [
      "1.26.4\n"
     ]
    }
   ],
   "source": [
    "import numpy as np\n",
    "print(np.__version__)\n"
   ]
  },
  {
   "cell_type": "code",
   "execution_count": 3,
   "metadata": {},
   "outputs": [
    {
     "name": "stdout",
     "output_type": "stream",
     "text": [
      "1.5.1\n"
     ]
    }
   ],
   "source": [
    "import sklearn\n",
    "print(sklearn.__version__)\n"
   ]
  }
 ],
 "metadata": {
  "kernelspec": {
   "display_name": "CMPT732",
   "language": "python",
   "name": "python3"
  },
  "language_info": {
   "codemirror_mode": {
    "name": "ipython",
    "version": 3
   },
   "file_extension": ".py",
   "mimetype": "text/x-python",
   "name": "python",
   "nbconvert_exporter": "python",
   "pygments_lexer": "ipython3",
   "version": "3.9.7"
  }
 },
 "nbformat": 4,
 "nbformat_minor": 2
}
